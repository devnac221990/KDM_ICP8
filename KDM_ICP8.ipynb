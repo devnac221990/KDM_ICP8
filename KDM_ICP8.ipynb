{
  "nbformat": 4,
  "nbformat_minor": 0,
  "metadata": {
    "colab": {
      "name": "KDM_ICP8.ipynb",
      "provenance": [],
      "collapsed_sections": [],
      "include_colab_link": true
    },
    "kernelspec": {
      "name": "python3",
      "display_name": "Python 3"
    }
  },
  "cells": [
    {
      "cell_type": "markdown",
      "metadata": {
        "id": "view-in-github",
        "colab_type": "text"
      },
      "source": [
        "<a href=\"https://colab.research.google.com/github/devnac221990/KDM_ICP8/blob/main/KDM_ICP8.ipynb\" target=\"_parent\"><img src=\"https://colab.research.google.com/assets/colab-badge.svg\" alt=\"Open In Colab\"/></a>"
      ]
    },
    {
      "cell_type": "code",
      "metadata": {
        "colab": {
          "base_uri": "https://localhost:8080/"
        },
        "id": "9YHmgOQDIhOQ",
        "outputId": "b7f4cc00-01ee-40bf-c874-b2764fbcb60c"
      },
      "source": [
        "# Install stanza, Installing and importing Stanza are as simple as running the following commands. \r\n",
        "!pip install stanza\r\n",
        "\r\n",
        "# Import stanza\r\n",
        "import stanza"
      ],
      "execution_count": 1,
      "outputs": [
        {
          "output_type": "stream",
          "text": [
            "Collecting stanza\n",
            "\u001b[?25l  Downloading https://files.pythonhosted.org/packages/50/ae/a70a58ce6b4e2daad538688806ee0f238dbe601954582a74ea57cde6c532/stanza-1.2-py3-none-any.whl (282kB)\n",
            "\r\u001b[K     |█▏                              | 10kB 14.4MB/s eta 0:00:01\r\u001b[K     |██▎                             | 20kB 14.0MB/s eta 0:00:01\r\u001b[K     |███▌                            | 30kB 8.8MB/s eta 0:00:01\r\u001b[K     |████▋                           | 40kB 6.8MB/s eta 0:00:01\r\u001b[K     |█████▉                          | 51kB 4.6MB/s eta 0:00:01\r\u001b[K     |███████                         | 61kB 5.0MB/s eta 0:00:01\r\u001b[K     |████████▏                       | 71kB 5.1MB/s eta 0:00:01\r\u001b[K     |█████████▎                      | 81kB 5.2MB/s eta 0:00:01\r\u001b[K     |██████████▌                     | 92kB 5.4MB/s eta 0:00:01\r\u001b[K     |███████████▋                    | 102kB 5.6MB/s eta 0:00:01\r\u001b[K     |████████████▉                   | 112kB 5.6MB/s eta 0:00:01\r\u001b[K     |██████████████                  | 122kB 5.6MB/s eta 0:00:01\r\u001b[K     |███████████████                 | 133kB 5.6MB/s eta 0:00:01\r\u001b[K     |████████████████▎               | 143kB 5.6MB/s eta 0:00:01\r\u001b[K     |█████████████████▍              | 153kB 5.6MB/s eta 0:00:01\r\u001b[K     |██████████████████▋             | 163kB 5.6MB/s eta 0:00:01\r\u001b[K     |███████████████████▊            | 174kB 5.6MB/s eta 0:00:01\r\u001b[K     |█████████████████████           | 184kB 5.6MB/s eta 0:00:01\r\u001b[K     |██████████████████████          | 194kB 5.6MB/s eta 0:00:01\r\u001b[K     |███████████████████████▎        | 204kB 5.6MB/s eta 0:00:01\r\u001b[K     |████████████████████████▍       | 215kB 5.6MB/s eta 0:00:01\r\u001b[K     |█████████████████████████▋      | 225kB 5.6MB/s eta 0:00:01\r\u001b[K     |██████████████████████████▊     | 235kB 5.6MB/s eta 0:00:01\r\u001b[K     |███████████████████████████▉    | 245kB 5.6MB/s eta 0:00:01\r\u001b[K     |█████████████████████████████   | 256kB 5.6MB/s eta 0:00:01\r\u001b[K     |██████████████████████████████▏ | 266kB 5.6MB/s eta 0:00:01\r\u001b[K     |███████████████████████████████▍| 276kB 5.6MB/s eta 0:00:01\r\u001b[K     |████████████████████████████████| 286kB 5.6MB/s \n",
            "\u001b[?25hRequirement already satisfied: requests in /usr/local/lib/python3.7/dist-packages (from stanza) (2.23.0)\n",
            "Requirement already satisfied: numpy in /usr/local/lib/python3.7/dist-packages (from stanza) (1.19.5)\n",
            "Requirement already satisfied: protobuf in /usr/local/lib/python3.7/dist-packages (from stanza) (3.12.4)\n",
            "Requirement already satisfied: torch>=1.3.0 in /usr/local/lib/python3.7/dist-packages (from stanza) (1.8.0+cu101)\n",
            "Requirement already satisfied: tqdm in /usr/local/lib/python3.7/dist-packages (from stanza) (4.41.1)\n",
            "Requirement already satisfied: certifi>=2017.4.17 in /usr/local/lib/python3.7/dist-packages (from requests->stanza) (2020.12.5)\n",
            "Requirement already satisfied: idna<3,>=2.5 in /usr/local/lib/python3.7/dist-packages (from requests->stanza) (2.10)\n",
            "Requirement already satisfied: chardet<4,>=3.0.2 in /usr/local/lib/python3.7/dist-packages (from requests->stanza) (3.0.4)\n",
            "Requirement already satisfied: urllib3!=1.25.0,!=1.25.1,<1.26,>=1.21.1 in /usr/local/lib/python3.7/dist-packages (from requests->stanza) (1.24.3)\n",
            "Requirement already satisfied: six>=1.9 in /usr/local/lib/python3.7/dist-packages (from protobuf->stanza) (1.15.0)\n",
            "Requirement already satisfied: setuptools in /usr/local/lib/python3.7/dist-packages (from protobuf->stanza) (54.0.0)\n",
            "Requirement already satisfied: typing-extensions in /usr/local/lib/python3.7/dist-packages (from torch>=1.3.0->stanza) (3.7.4.3)\n",
            "Installing collected packages: stanza\n",
            "Successfully installed stanza-1.2\n"
          ],
          "name": "stdout"
        }
      ]
    },
    {
      "cell_type": "code",
      "metadata": {
        "colab": {
          "base_uri": "https://localhost:8080/"
        },
        "id": "u-HAmikAIvUl",
        "outputId": "6b3b7e0d-2bed-4640-91eb-225021ba3b1c"
      },
      "source": [
        "# Download the Stanford CoreNLP package with Stanza's installation command\r\n",
        "# This'll take several minutes, depending on the network speed\r\n",
        "corenlp_dir = './corenlp'\r\n",
        "stanza.install_corenlp(dir=corenlp_dir)\r\n",
        "\r\n",
        "# Set the CORENLP_HOME environment variable to point to the installation location\r\n",
        "import os\r\n",
        "os.environ[\"CORENLP_HOME\"] = corenlp_dir"
      ],
      "execution_count": 2,
      "outputs": [
        {
          "output_type": "stream",
          "text": [
            "2021-03-15 00:53:43 INFO: Installing CoreNLP package into ./corenlp...\n",
            "Downloading http://nlp.stanford.edu/software/stanford-corenlp-latest.zip: 100%|██████████| 505M/505M [02:07<00:00, 3.95MB/s]\n",
            "2021-03-15 00:55:54 WARNING: For customized installation location, please set the `CORENLP_HOME` environment variable to the location of the installation. In Unix, this is done with `export CORENLP_HOME=./corenlp`.\n"
          ],
          "name": "stderr"
        }
      ]
    },
    {
      "cell_type": "code",
      "metadata": {
        "colab": {
          "base_uri": "https://localhost:8080/"
        },
        "id": "iDS6lHuCOITe",
        "outputId": "8adccc95-b47d-4268-c6a1-7e47e5b19136"
      },
      "source": [
        "import stanza\r\n",
        "# Import client module\r\n",
        "from stanza.server import CoreNLPClient\r\n",
        "\r\n",
        "client = CoreNLPClient(timeout=150000000, be_quiet=True, annotators=['openie'], \r\n",
        "endpoint='http://localhost:9001')\r\n",
        "client.start()\r\n",
        "import time\r\n",
        "time.sleep(10)"
      ],
      "execution_count": 3,
      "outputs": [
        {
          "output_type": "stream",
          "text": [
            "2021-03-15 00:56:00 INFO: Writing properties to tmp file: corenlp_server-3a037cbb74434899.props\n",
            "2021-03-15 00:56:00 INFO: Starting server with command: java -Xmx5G -cp ./corenlp/* edu.stanford.nlp.pipeline.StanfordCoreNLPServer -port 9001 -timeout 150000000 -threads 5 -maxCharLength 100000 -quiet True -serverProperties corenlp_server-3a037cbb74434899.props -annotators openie -preload -outputFormat serialized\n"
          ],
          "name": "stderr"
        }
      ]
    },
    {
      "cell_type": "code",
      "metadata": {
        "colab": {
          "base_uri": "https://localhost:8080/"
        },
        "id": "_8aBxT8qLIaY",
        "outputId": "0c5cdb63-a46a-4bcb-fb6d-7d7ea5a8d1f6"
      },
      "source": [
        "import json\r\n",
        "\r\n",
        "# News article\r\n",
        "text = \"Milton Hershey teacher gives an important lesson to students while serving with National Guard in D.C.\"\r\n",
        "document = client.annotate(text, output_format='json')\r\n",
        "triples = []\r\n",
        "for sentence in document['sentences']:\r\n",
        "    for triple in sentence['openie']:\r\n",
        "        triples.append({\r\n",
        "           'subject': triple['subject'],\r\n",
        "           'relation': triple['relation'],\r\n",
        "            'object': triple['object']\r\n",
        "        })\r\n",
        "print(triples)"
      ],
      "execution_count": 5,
      "outputs": [
        {
          "output_type": "stream",
          "text": [
            "[{'subject': 'Milton Hershey teacher', 'relation': 'gives lesson to', 'object': 'students'}, {'subject': 'Milton Hershey teacher', 'relation': 'gives lesson', 'object': 'while serving with National Guard'}, {'subject': 'Milton Hershey teacher', 'relation': 'gives lesson', 'object': 'while serving'}, {'subject': 'National Guard', 'relation': 'is in', 'object': 'D.C.'}, {'subject': 'Milton Hershey teacher', 'relation': 'serving with', 'object': 'National Guard in D.C.'}, {'subject': 'Milton Hershey teacher', 'relation': 'gives', 'object': 'important lesson'}, {'subject': 'Milton Hershey teacher', 'relation': 'gives', 'object': 'lesson'}, {'subject': 'Milton Hershey teacher', 'relation': 'gives lesson', 'object': 'serving'}, {'subject': 'Milton Hershey teacher', 'relation': 'gives lesson', 'object': 'serving with National Guard'}, {'subject': 'Milton Hershey teacher', 'relation': 'gives lesson', 'object': 'while serving with National Guard in D.C.'}, {'subject': 'Milton Hershey teacher', 'relation': 'gives lesson', 'object': 'serving with National Guard in D.C.'}, {'subject': 'Milton Hershey teacher', 'relation': 'serving with', 'object': 'National Guard'}]\n"
          ],
          "name": "stdout"
        }
      ]
    },
    {
      "cell_type": "code",
      "metadata": {
        "colab": {
          "base_uri": "https://localhost:8080/"
        },
        "id": "I65yRpZLeptt",
        "outputId": "1317d23f-5928-4dbd-ae4d-1b7335abd4cc"
      },
      "source": [
        "import json\r\n",
        "\r\n",
        "# Technology Blog\r\n",
        "text = \"Social media livestreams drive increased sales for major brands.\"\r\n",
        "document = client.annotate(text, output_format='json')\r\n",
        "triples = []\r\n",
        "for sentence in document['sentences']:\r\n",
        "    for triple in sentence['openie']:\r\n",
        "        triples.append({\r\n",
        "           'subject': triple['subject'],\r\n",
        "           'relation': triple['relation'],\r\n",
        "            'object': triple['object']\r\n",
        "        })\r\n",
        "print(triples)"
      ],
      "execution_count": 4,
      "outputs": [
        {
          "output_type": "stream",
          "text": [
            "[{'subject': 'media livestreams', 'relation': 'drive', 'object': 'increased sales'}, {'subject': 'Social media livestreams', 'relation': 'drive', 'object': 'sales for brands'}, {'subject': 'Social media livestreams', 'relation': 'drive', 'object': 'increased sales for brands'}, {'subject': 'media livestreams', 'relation': 'drive', 'object': 'sales'}, {'subject': 'media livestreams', 'relation': 'drive', 'object': 'increased sales for brands'}, {'subject': 'Social media livestreams', 'relation': 'drive', 'object': 'sales'}, {'subject': 'media livestreams', 'relation': 'drive', 'object': 'sales for major brands'}, {'subject': 'media livestreams', 'relation': 'drive', 'object': 'increased sales for major brands'}, {'subject': 'Social media livestreams', 'relation': 'drive', 'object': 'increased sales for major brands'}, {'subject': 'Social media livestreams', 'relation': 'drive', 'object': 'sales for major brands'}, {'subject': 'Social media livestreams', 'relation': 'drive', 'object': 'increased sales'}, {'subject': 'media livestreams', 'relation': 'drive', 'object': 'sales for brands'}]\n"
          ],
          "name": "stdout"
        }
      ]
    },
    {
      "cell_type": "code",
      "metadata": {
        "colab": {
          "base_uri": "https://localhost:8080/"
        },
        "id": "A-g1lAkBfDqZ",
        "outputId": "3a94128c-87dc-4c49-fe2e-d997bf8f42ae"
      },
      "source": [
        "import json\r\n",
        "\r\n",
        "# Space Blog\r\n",
        "text = \"Vision is critical to mission success and researchers are continuously studying how microgravity affects the human eye. Cosmonauts Sergey Ryzhikov and Sergey Kud-Sverchkov partnered together Thursday afternoon reading an eye chart as part of regularly scheduled eye checks. Some crew members have documented eye pressure and vision issues after living in space for months at a time.\"\r\n",
        "document = client.annotate(text, output_format='json')\r\n",
        "triples = []\r\n",
        "for sentence in document['sentences']:\r\n",
        "    for triple in sentence['openie']:\r\n",
        "        triples.append({\r\n",
        "           'subject': triple['subject'],\r\n",
        "           'relation': triple['relation'],\r\n",
        "            'object': triple['object']\r\n",
        "        })\r\n",
        "print(triples)"
      ],
      "execution_count": 6,
      "outputs": [
        {
          "output_type": "stream",
          "text": [
            "[{'subject': 'Vision', 'relation': 'is', 'object': 'critical'}, {'subject': 'microgravity', 'relation': 'affects', 'object': 'human eye'}, {'subject': 'Vision', 'relation': 'is critical to', 'object': 'mission success'}, {'subject': 'microgravity', 'relation': 'affects', 'object': 'eye'}, {'subject': 'Sergey Ryzhikov', 'relation': 'partnered at_time', 'object': 'Thursday afternoon'}, {'subject': 'Sergey Kud Sverchkov', 'relation': 'partnered together at_time', 'object': 'Thursday afternoon'}, {'subject': 'Sergey Ryzhikov', 'relation': 'partnered together at_time', 'object': 'Thursday afternoon'}, {'subject': 'Sergey Kud Sverchkov', 'relation': 'partnered at_time', 'object': 'Thursday afternoon'}, {'subject': 'crew members', 'relation': 'have documented eye pressure issues after', 'object': 'living in space at time'}, {'subject': 'crew members', 'relation': 'have documented after', 'object': 'living in space for months'}, {'subject': 'crew members', 'relation': 'have documented after', 'object': 'living for months at time'}, {'subject': 'crew members', 'relation': 'have documented after', 'object': 'living at time'}, {'subject': 'crew members', 'relation': 'have documented after', 'object': 'living for months'}, {'subject': 'crew members', 'relation': 'have documented eye pressure issues after', 'object': 'living in space for months'}, {'subject': 'crew members', 'relation': 'have documented after', 'object': 'living in space for months at time'}, {'subject': 'crew members', 'relation': 'have documented eye pressure issues after', 'object': 'living in space'}, {'subject': 'crew members', 'relation': 'have documented after', 'object': 'living in space'}, {'subject': 'crew members', 'relation': 'have documented eye pressure issues after', 'object': 'living'}, {'subject': 'crew members', 'relation': 'have documented eye pressure issues after', 'object': 'living for months'}, {'subject': 'crew members', 'relation': 'have documented eye pressure issues after', 'object': 'living for months at time'}, {'subject': 'crew members', 'relation': 'have documented after', 'object': 'living'}, {'subject': 'crew members', 'relation': 'have documented', 'object': 'eye pressure issues'}, {'subject': 'crew members', 'relation': 'have documented eye pressure issues after', 'object': 'living in space for months at time'}, {'subject': 'crew members', 'relation': 'have documented eye pressure issues after', 'object': 'living at time'}, {'subject': 'crew members', 'relation': 'have documented after', 'object': 'living in space at time'}]\n"
          ],
          "name": "stdout"
        }
      ]
    }
  ]
}